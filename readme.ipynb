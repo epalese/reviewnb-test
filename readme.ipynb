{
 "cells": [
  {
   "cell_type": "markdown",
   "metadata": {},
   "source": [
    "# test reviewnb\n",
    "This is a notebook to test the features of reviewnb."
   ]
  },
  {
   "cell_type": "code",
   "execution_count": null,
   "metadata": {},
   "outputs": [],
   "source": [
    "import os\n",
    "import sys"
   ]
  },
  {
   "cell_type": "code",
   "execution_count": null,
   "metadata": {},
   "outputs": [],
   "source": [
    "The following SQL statement contains an error that will be fixed."
   ]
  },
  {
   "cell_type": "code",
   "execution_count": null,
   "metadata": {},
   "outputs": [],
   "source": [
    "sql = \"\"\"SELECT T1.FIELD1, T2.FIELD2, T3.FIELD3\n",
    "FROM TABLE1 T1 INNER JOIN TABLE2 T2 ON T1.KEY1 = T2.KEY1\n",
    "LEFT JOIN TABLE3 T3 ON T1.KEY2 = T3.KEY2\n",
    "WHERE T2.KEY1 BETWEEN '2020-02-01' AND '2020-02-28'\n",
    "\"\"\""
   ]
  },
  {
   "cell_type": "code",
   "execution_count": null,
   "metadata": {},
   "outputs": [],
   "source": [
    "def func():\n",
    "    end = 1000\n",
    "    count = 0\n",
    "    for i in range(end)\n",
    "        print(\"Doing some stuff\")\n",
    "        "
   ]
  }
 ],
 "metadata": {
  "kernelspec": {
   "display_name": "Python 3",
   "language": "python",
   "name": "python3"
  },
  "language_info": {
   "codemirror_mode": {
    "name": "ipython",
    "version": 3
   },
   "file_extension": ".py",
   "mimetype": "text/x-python",
   "name": "python",
   "nbconvert_exporter": "python",
   "pygments_lexer": "ipython3",
   "version": "3.8.0"
  }
 },
 "nbformat": 4,
 "nbformat_minor": 4
}
